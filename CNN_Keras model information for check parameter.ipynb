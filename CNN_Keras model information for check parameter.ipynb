{
 "cells": [
  {
   "cell_type": "markdown",
   "id": "5d1c7c57-84c8-4ecb-89cb-10914180395b",
   "metadata": {},
   "source": [
    "# Number of parameter in CNN"
   ]
  },
  {
   "cell_type": "code",
   "execution_count": 18,
   "id": "7a343fd4-a9aa-4750-958e-e501e8b8b10d",
   "metadata": {},
   "outputs": [],
   "source": [
    "from keras.layers import Input, Convolution1D, Convolution2D, Activation\n",
    "from keras.models import Model"
   ]
  },
  {
   "cell_type": "markdown",
   "id": "1f10a04a-b050-4df1-acd1-0807dfa779d9",
   "metadata": {},
   "source": [
    "## 1D Convolutional"
   ]
  },
  {
   "cell_type": "code",
   "execution_count": 19,
   "id": "5e7949e6-5465-4d23-85d8-ce3cc0aa5bf4",
   "metadata": {},
   "outputs": [
    {
     "name": "stdout",
     "output_type": "stream",
     "text": [
      "Model: \"model_12\"\n",
      "_________________________________________________________________\n",
      " Layer (type)                Output Shape              Param #   \n",
      "=================================================================\n",
      " input_15 (InputLayer)       [(None, 100, 5)]          0         \n",
      "                                                                 \n",
      " conv1d (Conv1D)             (None, 98, 8)             128       \n",
      "                                                                 \n",
      " activation_34 (Activation)  (None, 98, 8)             0         \n",
      "                                                                 \n",
      " conv1d_1 (Conv1D)           (None, 96, 1)             25        \n",
      "                                                                 \n",
      " activation_35 (Activation)  (None, 96, 1)             0         \n",
      "                                                                 \n",
      "=================================================================\n",
      "Total params: 153 (612.00 Byte)\n",
      "Trainable params: 153 (612.00 Byte)\n",
      "Non-trainable params: 0 (0.00 Byte)\n",
      "_________________________________________________________________\n"
     ]
    }
   ],
   "source": [
    "my_input = Input (shape = (100,5))\n",
    "my_output = Convolution1D(8,3)(my_input)\n",
    "my_output = Activation('sigmoid')(my_output)\n",
    "my_output = Convolution1D(1,3)(my_output)\n",
    "my_output = Activation('sigmoid')(my_output)\n",
    "model = Model(my_input, my_output)\n",
    "\n",
    "model.summary()"
   ]
  },
  {
   "cell_type": "markdown",
   "id": "27888f28-6bbe-4c05-acff-53b2098852d7",
   "metadata": {},
   "source": [
    "## 2D covolutional"
   ]
  },
  {
   "cell_type": "markdown",
   "id": "ab44cc68-ed0e-45d0-bdd9-22ff61ff750a",
   "metadata": {},
   "source": [
    "### Ex.1: Single convolutional layer with grayscale image"
   ]
  },
  {
   "cell_type": "code",
   "execution_count": 11,
   "id": "c3b8adf5-f47f-4b2d-94fe-6e9dc60be2fd",
   "metadata": {},
   "outputs": [
    {
     "name": "stdout",
     "output_type": "stream",
     "text": [
      "Model: \"model_5\"\n",
      "_________________________________________________________________\n",
      " Layer (type)                Output Shape              Param #   \n",
      "=================================================================\n",
      " input_8 (InputLayer)        [(None, 10, 10, 1)]       0         \n",
      "                                                                 \n",
      " conv2d_9 (Conv2D)           (None, 8, 8, 5)           50        \n",
      "                                                                 \n",
      " activation_9 (Activation)   (None, 8, 8, 5)           0         \n",
      "                                                                 \n",
      "=================================================================\n",
      "Total params: 50 (200.00 Byte)\n",
      "Trainable params: 50 (200.00 Byte)\n",
      "Non-trainable params: 0 (0.00 Byte)\n",
      "_________________________________________________________________\n"
     ]
    }
   ],
   "source": [
    "#                           i,j, d\n",
    "my_input = Input (shape = (10,10,1))\n",
    "# d = 1 = grayscale\n",
    "# d = 3 = rgb\n",
    "\n",
    "#                       nos, filter size = 3 = 3x3\n",
    "my_output = Convolution2D(5,3)(my_input)\n",
    "my_output = Activation('sigmoid')(my_output)\n",
    "model = Model(my_input, my_output)\n",
    "\n",
    "model.summary()"
   ]
  },
  {
   "cell_type": "markdown",
   "id": "f5ed9464-623c-4938-86b8-c006e464941b",
   "metadata": {},
   "source": [
    "### Ex.2: Double convolutional layer with grayscale image"
   ]
  },
  {
   "cell_type": "code",
   "execution_count": 13,
   "id": "c2cc0c50-9699-4cb7-8e54-141c9dfda70a",
   "metadata": {},
   "outputs": [
    {
     "name": "stdout",
     "output_type": "stream",
     "text": [
      "Model: \"model_7\"\n",
      "_________________________________________________________________\n",
      " Layer (type)                Output Shape              Param #   \n",
      "=================================================================\n",
      " input_10 (InputLayer)       [(None, 10, 10, 1)]       0         \n",
      "                                                                 \n",
      " conv2d_12 (Conv2D)          (None, 8, 8, 5)           50        \n",
      "                                                                 \n",
      " activation_12 (Activation)  (None, 8, 8, 5)           0         \n",
      "                                                                 \n",
      " conv2d_13 (Conv2D)          (None, 6, 6, 2)           92        \n",
      "                                                                 \n",
      " activation_13 (Activation)  (None, 6, 6, 2)           0         \n",
      "                                                                 \n",
      "=================================================================\n",
      "Total params: 142 (568.00 Byte)\n",
      "Trainable params: 142 (568.00 Byte)\n",
      "Non-trainable params: 0 (0.00 Byte)\n",
      "_________________________________________________________________\n"
     ]
    }
   ],
   "source": [
    "my_input = Input (shape = (10,10,1))\n",
    "my_output = Convolution2D(5,3)(my_input)\n",
    "my_output = Activation('sigmoid')(my_output)\n",
    "my_output = Convolution2D(2,3)(my_output)\n",
    "my_output = Activation('sigmoid')(my_output)\n",
    "model = Model(my_input, my_output)\n",
    "\n",
    "model.summary()"
   ]
  },
  {
   "cell_type": "markdown",
   "id": "8dc8e153-1f4e-44fc-9367-7c1a5837ea39",
   "metadata": {},
   "source": [
    "### Ex.3: Single convolutional layer with multiband image"
   ]
  },
  {
   "cell_type": "code",
   "execution_count": 16,
   "id": "b6dfc9f1-83ad-47a2-af10-70a4ffb839fe",
   "metadata": {},
   "outputs": [
    {
     "name": "stdout",
     "output_type": "stream",
     "text": [
      "Model: \"model_10\"\n",
      "_________________________________________________________________\n",
      " Layer (type)                Output Shape              Param #   \n",
      "=================================================================\n",
      " input_13 (InputLayer)       [(None, 224, 224, 3)]     0         \n",
      "                                                                 \n",
      " conv2d_24 (Conv2D)          (None, 113, 113, 6)       225798    \n",
      "                                                                 \n",
      " activation_24 (Activation)  (None, 113, 113, 6)       0         \n",
      "                                                                 \n",
      "=================================================================\n",
      "Total params: 225798 (882.02 KB)\n",
      "Trainable params: 225798 (882.02 KB)\n",
      "Non-trainable params: 0 (0.00 Byte)\n",
      "_________________________________________________________________\n"
     ]
    }
   ],
   "source": [
    "my_input = Input (shape = (224,224,3))\n",
    "my_output = Convolution2D(6,112)(my_input)\n",
    "my_output = Activation('sigmoid')(my_output)\n",
    "model = Model(my_input, my_output)\n",
    "\n",
    "model.summary()"
   ]
  },
  {
   "cell_type": "markdown",
   "id": "3b00ae80-20ba-4be6-9028-4c8ae8a3f482",
   "metadata": {},
   "source": [
    "### Note:\n",
    "\n",
    "$\\;\\;\\;\\;$ So, whatever we iteration 10 times or 100 times, the number of parameter still constant = 1 times of iteration."
   ]
  },
  {
   "cell_type": "code",
   "execution_count": 17,
   "id": "532b21ed-269f-472c-99d5-8c02d4ec0363",
   "metadata": {},
   "outputs": [
    {
     "name": "stdout",
     "output_type": "stream",
     "text": [
      "Model: \"model_11\"\n",
      "_________________________________________________________________\n",
      " Layer (type)                Output Shape              Param #   \n",
      "=================================================================\n",
      " input_14 (InputLayer)       [(None, 224, 224, 3)]     0         \n",
      "                                                                 \n",
      " conv2d_33 (Conv2D)          (None, 113, 113, 6)       225798    \n",
      "                                                                 \n",
      " activation_33 (Activation)  (None, 113, 113, 6)       0         \n",
      "                                                                 \n",
      "=================================================================\n",
      "Total params: 225798 (882.02 KB)\n",
      "Trainable params: 225798 (882.02 KB)\n",
      "Non-trainable params: 0 (0.00 Byte)\n",
      "_________________________________________________________________\n"
     ]
    }
   ],
   "source": [
    "my_input = Input (shape = (224,224,3))\n",
    "n = 1\n",
    "while n <10:\n",
    "    my_output = Convolution2D(6,112)(my_input)\n",
    "    my_output = Activation('sigmoid')(my_output)\n",
    "    n += 1\n",
    "model = Model(my_input, my_output)\n",
    "\n",
    "model.summary()"
   ]
  },
  {
   "cell_type": "code",
   "execution_count": null,
   "id": "a2f63777-4682-4ef1-8d32-cf2256ad00bc",
   "metadata": {},
   "outputs": [],
   "source": []
  }
 ],
 "metadata": {
  "kernelspec": {
   "display_name": "Python 3 (ipykernel)",
   "language": "python",
   "name": "python3"
  },
  "language_info": {
   "codemirror_mode": {
    "name": "ipython",
    "version": 3
   },
   "file_extension": ".py",
   "mimetype": "text/x-python",
   "name": "python",
   "nbconvert_exporter": "python",
   "pygments_lexer": "ipython3",
   "version": "3.11.5"
  }
 },
 "nbformat": 4,
 "nbformat_minor": 5
}
