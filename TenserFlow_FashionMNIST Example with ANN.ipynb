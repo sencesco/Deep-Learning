{
 "cells": [
  {
   "cell_type": "code",
   "execution_count": null,
   "metadata": {
    "id": "MIxqYvc5MqqO"
   },
   "outputs": [],
   "source": [
    "import tensorflow as tf"
   ]
  },
  {
   "cell_type": "code",
   "execution_count": null,
   "metadata": {
    "colab": {
     "base_uri": "https://localhost:8080/"
    },
    "executionInfo": {
     "elapsed": 10,
     "status": "ok",
     "timestamp": 1703176115319,
     "user": {
      "displayName": "Somchai Kradingthong",
      "userId": "06050472122727612979"
     },
     "user_tz": -420
    },
    "id": "ds9zve-eNIHV",
    "outputId": "f76bc6ee-a4a6-410e-eee1-54675d663e01"
   },
   "outputs": [
    {
     "name": "stdout",
     "output_type": "stream",
     "text": [
      "2.15.0\n"
     ]
    }
   ],
   "source": [
    "print(tf.__version__)"
   ]
  },
  {
   "cell_type": "code",
   "execution_count": null,
   "metadata": {
    "id": "IkOUfQYQNRBO"
   },
   "outputs": [],
   "source": [
    "import numpy as np\n",
    "import matplotlib.pyplot as plt"
   ]
  },
  {
   "cell_type": "code",
   "execution_count": null,
   "metadata": {
    "colab": {
     "base_uri": "https://localhost:8080/"
    },
    "executionInfo": {
     "elapsed": 832,
     "status": "ok",
     "timestamp": 1703176369028,
     "user": {
      "displayName": "Somchai Kradingthong",
      "userId": "06050472122727612979"
     },
     "user_tz": -420
    },
    "id": "dpkyFIu9NW6-",
    "outputId": "2bb37495-235c-4662-b890-8fddfbc5cd80"
   },
   "outputs": [
    {
     "name": "stdout",
     "output_type": "stream",
     "text": [
      "Downloading data from https://storage.googleapis.com/tensorflow/tf-keras-datasets/train-labels-idx1-ubyte.gz\n",
      "29515/29515 [==============================] - 0s 0us/step\n",
      "Downloading data from https://storage.googleapis.com/tensorflow/tf-keras-datasets/train-images-idx3-ubyte.gz\n",
      "26421880/26421880 [==============================] - 0s 0us/step\n",
      "Downloading data from https://storage.googleapis.com/tensorflow/tf-keras-datasets/t10k-labels-idx1-ubyte.gz\n",
      "5148/5148 [==============================] - 0s 0us/step\n",
      "Downloading data from https://storage.googleapis.com/tensorflow/tf-keras-datasets/t10k-images-idx3-ubyte.gz\n",
      "4422102/4422102 [==============================] - 0s 0us/step\n"
     ]
    }
   ],
   "source": [
    "fm = tf.keras.datasets.fashion_mnist\n",
    "(Xtrain, ytrain),(Xtest, ytest) = fm.load_data()"
   ]
  },
  {
   "cell_type": "code",
   "execution_count": null,
   "metadata": {
    "colab": {
     "base_uri": "https://localhost:8080/"
    },
    "executionInfo": {
     "elapsed": 4,
     "status": "ok",
     "timestamp": 1703176387184,
     "user": {
      "displayName": "Somchai Kradingthong",
      "userId": "06050472122727612979"
     },
     "user_tz": -420
    },
    "id": "TZJlgVC8OMQY",
    "outputId": "c10f18c2-98af-4697-c46f-f3186cf5dc18"
   },
   "outputs": [
    {
     "data": {
      "text/plain": [
       "(60000, 28, 28)"
      ]
     },
     "execution_count": 7,
     "metadata": {},
     "output_type": "execute_result"
    }
   ],
   "source": [
    "Xtrain.shape\n",
    "# 6000 image each image 28x28"
   ]
  },
  {
   "cell_type": "code",
   "execution_count": null,
   "metadata": {
    "colab": {
     "base_uri": "https://localhost:8080/"
    },
    "executionInfo": {
     "elapsed": 5,
     "status": "ok",
     "timestamp": 1703176441686,
     "user": {
      "displayName": "Somchai Kradingthong",
      "userId": "06050472122727612979"
     },
     "user_tz": -420
    },
    "id": "oZjrGFpcOTdm",
    "outputId": "e575f04a-d2f6-482a-af94-1328869fd2d2"
   },
   "outputs": [
    {
     "data": {
      "text/plain": [
       "(60000,)"
      ]
     },
     "execution_count": 8,
     "metadata": {},
     "output_type": "execute_result"
    }
   ],
   "source": [
    "ytrain.shape"
   ]
  },
  {
   "cell_type": "code",
   "execution_count": null,
   "metadata": {
    "colab": {
     "base_uri": "https://localhost:8080/"
    },
    "executionInfo": {
     "elapsed": 523,
     "status": "ok",
     "timestamp": 1703176462694,
     "user": {
      "displayName": "Somchai Kradingthong",
      "userId": "06050472122727612979"
     },
     "user_tz": -420
    },
    "id": "jLC7Q8oWOgz_",
    "outputId": "525f22de-2cb9-4e6a-c226-c58a75b69a0b"
   },
   "outputs": [
    {
     "data": {
      "text/plain": [
       "array([0, 1, 2, 3, 4, 5, 6, 7, 8, 9], dtype=uint8)"
      ]
     },
     "execution_count": 9,
     "metadata": {},
     "output_type": "execute_result"
    }
   ],
   "source": [
    "np.unique(ytrain)"
   ]
  },
  {
   "cell_type": "code",
   "execution_count": null,
   "metadata": {
    "id": "056t5QBwOlxF"
   },
   "outputs": [],
   "source": [
    "c_label = ['T-shirt','Trouser','Pullover','Dress',\n",
    "           'Coat','Sandal','Shirt','Sneaker','Bag','Ankle boot']"
   ]
  },
  {
   "cell_type": "code",
   "execution_count": null,
   "metadata": {
    "colab": {
     "base_uri": "https://localhost:8080/",
     "height": 36
    },
    "executionInfo": {
     "elapsed": 11,
     "status": "ok",
     "timestamp": 1703176726312,
     "user": {
      "displayName": "Somchai Kradingthong",
      "userId": "06050472122727612979"
     },
     "user_tz": -420
    },
    "id": "TBmRdmDDPbxP",
    "outputId": "976861a2-0bdc-46ec-a173-7faa6bf59b50"
   },
   "outputs": [
    {
     "data": {
      "application/vnd.google.colaboratory.intrinsic+json": {
       "type": "string"
      },
      "text/plain": [
       "'Coat'"
      ]
     },
     "execution_count": 11,
     "metadata": {},
     "output_type": "execute_result"
    }
   ],
   "source": [
    "c_label[ytrain[19]]"
   ]
  },
  {
   "cell_type": "code",
   "execution_count": null,
   "metadata": {
    "colab": {
     "base_uri": "https://localhost:8080/",
     "height": 448
    },
    "executionInfo": {
     "elapsed": 1023,
     "status": "ok",
     "timestamp": 1703176777469,
     "user": {
      "displayName": "Somchai Kradingthong",
      "userId": "06050472122727612979"
     },
     "user_tz": -420
    },
    "id": "R2rcvbwSPmPe",
    "outputId": "ea229d32-e1c6-4bd7-c4e6-1b16281fd8f9"
   },
   "outputs": [
    {
     "data": {
      "text/plain": [
       "<matplotlib.image.AxesImage at 0x7a48b02cbd30>"
      ]
     },
     "execution_count": 12,
     "metadata": {},
     "output_type": "execute_result"
    },
    {
     "data": {
      "image/png": "[encoded data removed]",
      "text/plain": [
       "<Figure size 640x480 with 1 Axes>"
      ]
     },
     "metadata": {},
     "output_type": "display_data"
    }
   ],
   "source": [
    "plt.figure()\n",
    "plt.imshow(Xtrain[0],cmap=plt.cm.bone)"
   ]
  },
  {
   "cell_type": "code",
   "execution_count": null,
   "metadata": {
    "colab": {
     "base_uri": "https://localhost:8080/",
     "height": 36
    },
    "executionInfo": {
     "elapsed": 8,
     "status": "ok",
     "timestamp": 1703176797606,
     "user": {
      "displayName": "Somchai Kradingthong",
      "userId": "06050472122727612979"
     },
     "user_tz": -420
    },
    "id": "zpsGo_yhPyfm",
    "outputId": "3999add4-9c7b-45dc-da8a-46a257b28206"
   },
   "outputs": [
    {
     "data": {
      "application/vnd.google.colaboratory.intrinsic+json": {
       "type": "string"
      },
      "text/plain": [
       "'Ankle boot'"
      ]
     },
     "execution_count": 13,
     "metadata": {},
     "output_type": "execute_result"
    }
   ],
   "source": [
    "c_label[ytrain[0]]"
   ]
  },
  {
   "cell_type": "markdown",
   "metadata": {
    "id": "jY1f70MEQCXm"
   },
   "source": [
    "- Scale down the image."
   ]
  },
  {
   "cell_type": "code",
   "execution_count": null,
   "metadata": {
    "id": "p6JmSQGkP3n-"
   },
   "outputs": [],
   "source": [
    "Xtrain = Xtrain/255.0\n",
    "Xtest = Xtest/255.0"
   ]
  },
  {
   "cell_type": "markdown",
   "metadata": {
    "id": "99TVmaAlRl5g"
   },
   "source": [
    "Create an ANN Model."
   ]
  },
  {
   "cell_type": "code",
   "execution_count": null,
   "metadata": {
    "id": "jcGDagO7QMzr"
   },
   "outputs": [],
   "source": [
    "nnModel = tf.keras.Sequential([\n",
    "    # Input layer\n",
    "    tf.keras.layers.Flatten(input_shape=(28,28)),\n",
    "    # Hidden layer 1\n",
    "    tf.keras.layers.Dense(100, activation='relu'),\n",
    "    tf.keras.layers.Dropout(0.20),\n",
    "    # Hidden layer 2\n",
    "    tf.keras.layers.Dense(60, activation='relu'),\n",
    "    tf.keras.layers.Dropout(0.20),\n",
    "    # Hidden layer 3\n",
    "    tf.keras.layers.Dense(10)  # If not specify activation function will default is linear\n",
    "])"
   ]
  },
  {
   "cell_type": "markdown",
   "metadata": {
    "id": "RIzGOBgVUzAo"
   },
   "source": [
    "- Compile and fit model."
   ]
  },
  {
   "cell_type": "code",
   "execution_count": null,
   "metadata": {
    "id": "WQLqD7c9R0Rd"
   },
   "outputs": [],
   "source": [
    "nnModel.compile(\n",
    "    optimizer='adam',\n",
    "    loss=tf.keras.losses.SparseCategoricalCrossentropy(from_logits=True),\n",
    "    metrics=['accuracy']\n",
    ")"
   ]
  },
  {
   "cell_type": "code",
   "execution_count": null,
   "metadata": {
    "colab": {
     "base_uri": "https://localhost:8080/"
    },
    "executionInfo": {
     "elapsed": 83504,
     "status": "ok",
     "timestamp": 1703177921277,
     "user": {
      "displayName": "Somchai Kradingthong",
      "userId": "06050472122727612979"
     },
     "user_tz": -420
    },
    "id": "zkMFJqEmSxDr",
    "outputId": "21cfc3b7-503b-40ee-efe0-e365f652aa8c"
   },
   "outputs": [
    {
     "name": "stdout",
     "output_type": "stream",
     "text": [
      "Epoch 1/10\n",
      "1875/1875 [==============================] - 5s 2ms/step - loss: 0.5935 - accuracy: 0.7865\n",
      "Epoch 2/10\n",
      "1875/1875 [==============================] - 4s 2ms/step - loss: 0.4337 - accuracy: 0.8429\n",
      "Epoch 3/10\n",
      "1875/1875 [==============================] - 5s 3ms/step - loss: 0.3973 - accuracy: 0.8555\n",
      "Epoch 4/10\n",
      "1875/1875 [==============================] - 4s 2ms/step - loss: 0.3771 - accuracy: 0.8638\n",
      "Epoch 5/10\n",
      "1875/1875 [==============================] - 5s 3ms/step - loss: 0.3618 - accuracy: 0.8684\n",
      "Epoch 6/10\n",
      "1875/1875 [==============================] - 4s 2ms/step - loss: 0.3492 - accuracy: 0.8736\n",
      "Epoch 7/10\n",
      "1875/1875 [==============================] - 4s 2ms/step - loss: 0.3368 - accuracy: 0.8762\n",
      "Epoch 8/10\n",
      "1875/1875 [==============================] - 5s 2ms/step - loss: 0.3293 - accuracy: 0.8771\n",
      "Epoch 9/10\n",
      "1875/1875 [==============================] - 4s 2ms/step - loss: 0.3229 - accuracy: 0.8805\n",
      "Epoch 10/10\n",
      "1875/1875 [==============================] - 5s 2ms/step - loss: 0.3162 - accuracy: 0.8836\n"
     ]
    },
    {
     "data": {
      "text/plain": [
       "<keras.src.callbacks.History at 0x7a48b59356f0>"
      ]
     },
     "execution_count": 29,
     "metadata": {},
     "output_type": "execute_result"
    }
   ],
   "source": [
    "nnModel.fit(Xtrain, ytrain, epochs=10)"
   ]
  },
  {
   "cell_type": "markdown",
   "metadata": {
    "id": "UrpI7BGaU9iw"
   },
   "source": [
    "- Prediction a value."
   ]
  },
  {
   "cell_type": "code",
   "execution_count": null,
   "metadata": {
    "id": "csCcVKxjTuwe"
   },
   "outputs": [],
   "source": [
    "pm = tf.keras.Sequential([nnModel,tf.keras.layers.Softmax()])"
   ]
  },
  {
   "cell_type": "code",
   "execution_count": null,
   "metadata": {
    "colab": {
     "base_uri": "https://localhost:8080/"
    },
    "executionInfo": {
     "elapsed": 4,
     "status": "ok",
     "timestamp": 1703178184102,
     "user": {
      "displayName": "Somchai Kradingthong",
      "userId": "06050472122727612979"
     },
     "user_tz": -420
    },
    "id": "EXT5NRvPVJnP",
    "outputId": "5c627411-89d1-480f-da74-bbac346834c6"
   },
   "outputs": [
    {
     "data": {
      "text/plain": [
       "<keras.src.engine.sequential.Sequential at 0x7a48901c7850>"
      ]
     },
     "execution_count": 31,
     "metadata": {},
     "output_type": "execute_result"
    }
   ],
   "source": [
    "pm"
   ]
  },
  {
   "cell_type": "code",
   "execution_count": null,
   "metadata": {
    "colab": {
     "base_uri": "https://localhost:8080/"
    },
    "executionInfo": {
     "elapsed": 1923,
     "status": "ok",
     "timestamp": 1703178210766,
     "user": {
      "displayName": "Somchai Kradingthong",
      "userId": "06050472122727612979"
     },
     "user_tz": -420
    },
    "id": "dnJqJdemVKMB",
    "outputId": "5f002215-6ab9-41cb-c4c0-980d147aac18"
   },
   "outputs": [
    {
     "name": "stdout",
     "output_type": "stream",
     "text": [
      "313/313 [==============================] - 1s 2ms/step\n"
     ]
    }
   ],
   "source": [
    "y_pred = pm.predict(Xtest)"
   ]
  },
  {
   "cell_type": "code",
   "execution_count": null,
   "metadata": {
    "colab": {
     "base_uri": "https://localhost:8080/"
    },
    "executionInfo": {
     "elapsed": 301,
     "status": "ok",
     "timestamp": 1703178216469,
     "user": {
      "displayName": "Somchai Kradingthong",
      "userId": "06050472122727612979"
     },
     "user_tz": -420
    },
    "id": "3pNqvbX7VQMf",
    "outputId": "365eca83-1018-465d-dd2e-81c777c4e7d4"
   },
   "outputs": [
    {
     "data": {
      "text/plain": [
       "array([1.4669449e-06, 3.3600323e-08, 1.3111310e-07, 2.1139591e-07,\n",
       "       2.6566052e-08, 1.7954309e-03, 5.5373267e-08, 9.0343151e-03,\n",
       "       1.2899350e-05, 9.8915541e-01], dtype=float32)"
      ]
     },
     "execution_count": 33,
     "metadata": {},
     "output_type": "execute_result"
    }
   ],
   "source": [
    "y_pred[0]\n",
    "# The result is a pdf"
   ]
  },
  {
   "cell_type": "code",
   "execution_count": null,
   "metadata": {
    "id": "rkJ4XMZQVR54"
   },
   "outputs": [],
   "source": [
    "class_label = np.argmax(y_pred[0])"
   ]
  },
  {
   "cell_type": "code",
   "execution_count": null,
   "metadata": {
    "colab": {
     "base_uri": "https://localhost:8080/"
    },
    "executionInfo": {
     "elapsed": 6,
     "status": "ok",
     "timestamp": 1703178645301,
     "user": {
      "displayName": "Somchai Kradingthong",
      "userId": "06050472122727612979"
     },
     "user_tz": -420
    },
    "id": "s5BK0qQqVmIX",
    "outputId": "08a659b3-686e-42b1-9a17-e3d8491be4d0"
   },
   "outputs": [
    {
     "data": {
      "text/plain": [
       "9"
      ]
     },
     "execution_count": 45,
     "metadata": {},
     "output_type": "execute_result"
    }
   ],
   "source": [
    "class_label"
   ]
  },
  {
   "cell_type": "code",
   "execution_count": null,
   "metadata": {
    "colab": {
     "base_uri": "https://localhost:8080/",
     "height": 36
    },
    "executionInfo": {
     "elapsed": 5,
     "status": "ok",
     "timestamp": 1703178645301,
     "user": {
      "displayName": "Somchai Kradingthong",
      "userId": "06050472122727612979"
     },
     "user_tz": -420
    },
    "id": "BJ7qgh6OVncX",
    "outputId": "a1fb24c6-9a9c-4b55-8eee-f32a73efee73"
   },
   "outputs": [
    {
     "data": {
      "application/vnd.google.colaboratory.intrinsic+json": {
       "type": "string"
      },
      "text/plain": [
       "'Ankle boot'"
      ]
     },
     "execution_count": 46,
     "metadata": {},
     "output_type": "execute_result"
    }
   ],
   "source": [
    "c_label[class_label]"
   ]
  },
  {
   "cell_type": "code",
   "execution_count": null,
   "metadata": {
    "colab": {
     "base_uri": "https://localhost:8080/",
     "height": 36
    },
    "executionInfo": {
     "elapsed": 11,
     "status": "ok",
     "timestamp": 1703178645629,
     "user": {
      "displayName": "Somchai Kradingthong",
      "userId": "06050472122727612979"
     },
     "user_tz": -420
    },
    "id": "yff7o58lVu8w",
    "outputId": "5ac453e8-76c4-4a15-e7e4-5eece8950ceb"
   },
   "outputs": [
    {
     "data": {
      "application/vnd.google.colaboratory.intrinsic+json": {
       "type": "string"
      },
      "text/plain": [
       "'Ankle boot'"
      ]
     },
     "execution_count": 47,
     "metadata": {},
     "output_type": "execute_result"
    }
   ],
   "source": [
    "c_label[ytest[0]]"
   ]
  },
  {
   "cell_type": "code",
   "execution_count": null,
   "metadata": {
    "id": "Q_-q7GRLV5F_"
   },
   "outputs": [],
   "source": []
  },
  {
   "cell_type": "code",
   "execution_count": null,
   "metadata": {
    "colab": {
     "base_uri": "https://localhost:8080/"
    },
    "executionInfo": {
     "elapsed": 10,
     "status": "ok",
     "timestamp": 1703178645630,
     "user": {
      "displayName": "Somchai Kradingthong",
      "userId": "06050472122727612979"
     },
     "user_tz": -420
    },
    "id": "UJV_dfPPWBC6",
    "outputId": "c60e2fed-01a9-4b6c-8fe4-9ec188967517"
   },
   "outputs": [
    {
     "data": {
      "text/plain": [
       "5"
      ]
     },
     "execution_count": 48,
     "metadata": {},
     "output_type": "execute_result"
    }
   ],
   "source": [
    "class_label = np.argmax(y_pred[12])\n",
    "class_label"
   ]
  },
  {
   "cell_type": "code",
   "execution_count": null,
   "metadata": {
    "colab": {
     "base_uri": "https://localhost:8080/",
     "height": 36
    },
    "executionInfo": {
     "elapsed": 9,
     "status": "ok",
     "timestamp": 1703178651084,
     "user": {
      "displayName": "Somchai Kradingthong",
      "userId": "06050472122727612979"
     },
     "user_tz": -420
    },
    "id": "MjOGp_gOWJIX",
    "outputId": "69ade09f-2a1f-47f7-f2ad-08675c58f145"
   },
   "outputs": [
    {
     "data": {
      "application/vnd.google.colaboratory.intrinsic+json": {
       "type": "string"
      },
      "text/plain": [
       "'Sandal'"
      ]
     },
     "execution_count": 49,
     "metadata": {},
     "output_type": "execute_result"
    }
   ],
   "source": [
    "c_label[class_label]"
   ]
  },
  {
   "cell_type": "code",
   "execution_count": null,
   "metadata": {
    "colab": {
     "base_uri": "https://localhost:8080/",
     "height": 36
    },
    "executionInfo": {
     "elapsed": 288,
     "status": "ok",
     "timestamp": 1703178653354,
     "user": {
      "displayName": "Somchai Kradingthong",
      "userId": "06050472122727612979"
     },
     "user_tz": -420
    },
    "id": "2zl33wFvWK0n",
    "outputId": "e0394369-e5cd-4681-b5d0-e1e618018ec4"
   },
   "outputs": [
    {
     "data": {
      "application/vnd.google.colaboratory.intrinsic+json": {
       "type": "string"
      },
      "text/plain": [
       "'Pullover'"
      ]
     },
     "execution_count": 50,
     "metadata": {},
     "output_type": "execute_result"
    }
   ],
   "source": [
    "c_label[ytest[1]]"
   ]
  },
  {
   "cell_type": "code",
   "execution_count": null,
   "metadata": {
    "id": "FkwXNB6-WMQn"
   },
   "outputs": [],
   "source": []
  },
  {
   "cell_type": "code",
   "execution_count": null,
   "metadata": {
    "colab": {
     "base_uri": "https://localhost:8080/"
    },
    "executionInfo": {
     "elapsed": 4,
     "status": "ok",
     "timestamp": 1703179069083,
     "user": {
      "displayName": "Somchai Kradingthong",
      "userId": "06050472122727612979"
     },
     "user_tz": -420
    },
    "id": "BMNLTwjeYeQo",
    "outputId": "9ca5f8f2-230a-453e-c1ff-c940070f3c46"
   },
   "outputs": [
    {
     "data": {
      "text/plain": [
       "(10000,)"
      ]
     },
     "execution_count": 52,
     "metadata": {},
     "output_type": "execute_result"
    }
   ],
   "source": [
    "ytest.shape"
   ]
  },
  {
   "cell_type": "code",
   "execution_count": null,
   "metadata": {
    "colab": {
     "base_uri": "https://localhost:8080/"
    },
    "executionInfo": {
     "elapsed": 15,
     "status": "ok",
     "timestamp": 1703179136261,
     "user": {
      "displayName": "Somchai Kradingthong",
      "userId": "06050472122727612979"
     },
     "user_tz": -420
    },
    "id": "VrUIkYm1WV76",
    "outputId": "f60d8853-368e-495b-bf18-9fa8aa034cdf"
   },
   "outputs": [
    {
     "name": "stdout",
     "output_type": "stream",
     "text": [
      "index: 7193\n",
      "Class: 6\n",
      "y_pred: Shirt\n",
      "y_test: Shirt\n"
     ]
    }
   ],
   "source": [
    "i = np.random.randint(low=0,high=9999)\n",
    "class_label = np.argmax(y_pred[i])\n",
    "\n",
    "print(f'index: {i}')\n",
    "print(f'Class: {class_label}')\n",
    "print(f\"y_pred: {c_label[class_label]}\")\n",
    "print(f\"y_test: {c_label[ytest[i]]}\")"
   ]
  },
  {
   "cell_type": "code",
   "execution_count": null,
   "metadata": {
    "colab": {
     "base_uri": "https://localhost:8080/"
    },
    "executionInfo": {
     "elapsed": 12,
     "status": "ok",
     "timestamp": 1703179136262,
     "user": {
      "displayName": "Somchai Kradingthong",
      "userId": "06050472122727612979"
     },
     "user_tz": -420
    },
    "id": "CyMYBWOkYlOo",
    "outputId": "59beaa8a-51f0-480b-c761-4da8b19c8dd5"
   },
   "outputs": [
    {
     "name": "stdout",
     "output_type": "stream",
     "text": [
      "index: 6411\n",
      "Class: 7\n",
      "y_pred: Sneaker\n",
      "y_test: Sneaker\n"
     ]
    }
   ],
   "source": [
    "i = np.random.randint(low=0,high=9999)\n",
    "class_label = np.argmax(y_pred[i])\n",
    "\n",
    "print(f'index: {i}')\n",
    "print(f'Class: {class_label}')\n",
    "print(f\"y_pred: {c_label[class_label]}\")\n",
    "print(f\"y_test: {c_label[ytest[i]]}\")"
   ]
  },
  {
   "cell_type": "code",
   "execution_count": null,
   "metadata": {
    "id": "iOifCpXbYw2A"
   },
   "outputs": [],
   "source": []
  }
 ],
 "metadata": {
  "colab": {
   "authorship_tag": "ABX9TyOr1vBDaiOlWXAYGKFqDNKU",
   "provenance": []
  },
  "kernelspec": {
   "display_name": "Python 3 (ipykernel)",
   "language": "python",
   "name": "python3"
  },
  "language_info": {
   "codemirror_mode": {
    "name": "ipython",
    "version": 3
   },
   "file_extension": ".py",
   "mimetype": "text/x-python",
   "name": "python",
   "nbconvert_exporter": "python",
   "pygments_lexer": "ipython3",
   "version": "3.11.5"
  }
 },
 "nbformat": 4,
 "nbformat_minor": 4
}
